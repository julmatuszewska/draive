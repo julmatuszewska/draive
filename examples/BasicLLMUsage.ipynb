{
 "cells": [
  {
   "cell_type": "markdown",
   "metadata": {},
   "source": [
    "# Basic LLM usage\n",
    "\n",
    "Draive framework provides various ways to use LLM depending on the use case. The simplest interface is to generate text by using `generate_text` function. We can use it to make a simple text completion function."
   ]
  },
  {
   "cell_type": "code",
   "execution_count": 1,
   "metadata": {},
   "outputs": [],
   "source": [
    "from draive import generate_text\n",
    "\n",
    "\n",
    "async def text_completion(text: str) -> str:\n",
    "    # generate text is a simple interface for generating text\n",
    "    return await generate_text(\n",
    "        # We have to provide instructions / system prompt to instruct the model\n",
    "        instruction=\"Prepare the simplest completion of a given text\",\n",
    "        # Input is provided separately and can be easily parametrized\n",
    "        input=text,\n",
    "    )"
   ]
  },
  {
   "cell_type": "markdown",
   "metadata": {},
   "source": [
    "The result of this function is a completion from a currently used model. What is a currently used model? We have to define it yet by providing basic setup of state and dependencies. In this example we are going to use OpenAI client, you have to provide the api key to that service in .env file with `OPENAI_API_KEY` key before running."
   ]
  },
  {
   "cell_type": "code",
   "execution_count": 2,
   "metadata": {},
   "outputs": [],
   "source": [
    "from draive import load_env\n",
    "\n",
    "load_env()  # load .env"
   ]
  },
  {
   "cell_type": "markdown",
   "metadata": {},
   "source": [
    "When we have .env we can prepare a context scope with OpenAI client and use our function. Lowest level interface is called LMM since draive supports multi-model solutions out of the box. Assigning `invocation` to `openai_lmm_invocation` and using it as the context scope state selects this provider for our completions. We have also define OpenAI client dependency which defines functions for accessing OpenAI services."
   ]
  },
  {
   "cell_type": "code",
   "execution_count": 3,
   "metadata": {},
   "outputs": [
    {
     "name": "stdout",
     "output_type": "stream",
     "text": [
      "Violets are blue\n"
     ]
    }
   ],
   "source": [
    "from draive import LMM, OpenAIClient, ctx, openai_lmm_invocation\n",
    "\n",
    "async with ctx.new(  # prepare new context\n",
    "    \"text_completion\",\n",
    "    state=[LMM(invocation=openai_lmm_invocation)],  # set LMM to OpenAI\n",
    "    dependencies=[OpenAIClient],  # use OpenAIClient dependency for accessing OpenAI services\n",
    "):\n",
    "    result: str = await text_completion(\n",
    "        text=\"Roses are red...\",\n",
    "    )\n",
    "\n",
    "    print(result)"
   ]
  },
  {
   "cell_type": "markdown",
   "metadata": {},
   "source": [
    "As we now know how to setup OpenAI as out LLM provider. We can start customizing it more by providing GPT model configuration."
   ]
  },
  {
   "cell_type": "code",
   "execution_count": 4,
   "metadata": {},
   "outputs": [
    {
     "name": "stdout",
     "output_type": "stream",
     "text": [
      "RESULT GPT 3.5 | temperature 0.4: Violets are blue.\n",
      "RESULT GPT 4o | temperature 0.7: Violets are blue,\n",
      "Sugar is sweet,\n",
      "And so are you.\n",
      "RESULT GPT 3.5 | temperature 0.7: Violets are blue.\n"
     ]
    }
   ],
   "source": [
    "from draive import OpenAIChatConfig\n",
    "\n",
    "async with ctx.new(  # prepare the context\n",
    "    \"text_completion\",\n",
    "    state=[\n",
    "        LMM(invocation=openai_lmm_invocation),\n",
    "        OpenAIChatConfig(  # define GPT model configuration\n",
    "            model=\"gpt-3.5-turbo\",\n",
    "            temperature=0.4,\n",
    "        ),\n",
    "    ],\n",
    "    dependencies=[OpenAIClient],\n",
    "):\n",
    "    # now we are using gpt-3.5-turbo with temperature of 0.4\n",
    "    result: str = await generate_text(\n",
    "        instruction=\"Prepare simplest completion of given text\",\n",
    "        input=\"Roses are red...\",\n",
    "    )\n",
    "\n",
    "    print(\"RESULT GPT 3.5 | temperature 0.4:\", result)\n",
    "\n",
    "    # we can update the configuration to change any parameter for nested context\n",
    "    with ctx.updated(\n",
    "        ctx.state(OpenAIChatConfig).updated(\n",
    "            model=\"gpt-4o\",\n",
    "            temperature=0.7,\n",
    "        ),\n",
    "    ):\n",
    "        # now we are using gpt-4o with temperature of 0.7\n",
    "        result = await generate_text(\n",
    "            instruction=\"Prepare simplest completion of given text\",\n",
    "            input=\"Roses are red...\",\n",
    "        )\n",
    "\n",
    "        print(\"RESULT GPT 4o | temperature 0.7:\", result)\n",
    "\n",
    "    # we can also update the configuration for a single call\n",
    "    # here we are using gpt-3.5-turbo with temperature of 0.7\n",
    "    result = await generate_text(\n",
    "        instruction=\"Prepare simplest completion of given text\",\n",
    "        input=\"Roses are red...\",\n",
    "        temperature=0.7,\n",
    "    )\n",
    "\n",
    "    print(\"RESULT GPT 3.5 | temperature 0.7:\", result)"
   ]
  },
  {
   "cell_type": "markdown",
   "metadata": {},
   "source": [
    "Since we knows the basics now we can examine the details of our execution to see what actually happened inside. We can setup the logger before execution to see context metrics logs."
   ]
  },
  {
   "cell_type": "code",
   "execution_count": 5,
   "metadata": {},
   "outputs": [
    {
     "name": "stdout",
     "output_type": "stream",
     "text": [
      "06/Jun/2024:20:57:31 +0000 [INFO] [text_completion] [369c504f84004f78b56fc33e210b366f|text_completion] started...\n",
      "06/Jun/2024:20:57:31 +0000 [INFO] [text_completion] [369c504f84004f78b56fc33e210b366f|lmm_generate_text] started...\n",
      "06/Jun/2024:20:57:31 +0000 [INFO] [text_completion] [369c504f84004f78b56fc33e210b366f|openai_lmm_completion] started...\n",
      "06/Jun/2024:20:57:31 +0000 [DEBUG] [text_completion] [369c504f84004f78b56fc33e210b366f|openai_lmm_completion] Requested OpenAI lmm\n",
      "06/Jun/2024:20:57:32 +0000 [INFO] [text_completion] [369c504f84004f78b56fc33e210b366f|openai_lmm_completion] ...finished after 0.78s\n",
      "06/Jun/2024:20:57:32 +0000 [DEBUG] [text_completion] [369c504f84004f78b56fc33e210b366f|lmm_generate_text] Received text generation result\n",
      "06/Jun/2024:20:57:32 +0000 [INFO] [text_completion] [369c504f84004f78b56fc33e210b366f|lmm_generate_text] ...finished after 0.78s\n",
      "06/Jun/2024:20:57:32 +0000 [INFO] [text_completion] [369c504f84004f78b56fc33e210b366f|lmm_generate_text] started...\n",
      "06/Jun/2024:20:57:32 +0000 [INFO] [text_completion] [369c504f84004f78b56fc33e210b366f|openai_lmm_completion] started...\n",
      "06/Jun/2024:20:57:32 +0000 [DEBUG] [text_completion] [369c504f84004f78b56fc33e210b366f|openai_lmm_completion] Requested OpenAI lmm\n",
      "06/Jun/2024:20:57:33 +0000 [INFO] [text_completion] [369c504f84004f78b56fc33e210b366f|openai_lmm_completion] ...finished after 1.32s\n",
      "06/Jun/2024:20:57:33 +0000 [DEBUG] [text_completion] [369c504f84004f78b56fc33e210b366f|lmm_generate_text] Received text generation result\n",
      "06/Jun/2024:20:57:33 +0000 [INFO] [text_completion] [369c504f84004f78b56fc33e210b366f|lmm_generate_text] ...finished after 1.32s\n",
      "06/Jun/2024:20:57:33 +0000 [INFO] [text_completion] [369c504f84004f78b56fc33e210b366f|lmm_generate_text] started...\n",
      "06/Jun/2024:20:57:33 +0000 [INFO] [text_completion] [369c504f84004f78b56fc33e210b366f|openai_lmm_completion] started...\n",
      "06/Jun/2024:20:57:33 +0000 [DEBUG] [text_completion] [369c504f84004f78b56fc33e210b366f|openai_lmm_completion] Requested OpenAI lmm\n",
      "06/Jun/2024:20:57:34 +0000 [INFO] [text_completion] [369c504f84004f78b56fc33e210b366f|openai_lmm_completion] ...finished after 0.46s\n",
      "06/Jun/2024:20:57:34 +0000 [DEBUG] [text_completion] [369c504f84004f78b56fc33e210b366f|lmm_generate_text] Received text generation result\n",
      "06/Jun/2024:20:57:34 +0000 [INFO] [text_completion] [369c504f84004f78b56fc33e210b366f|lmm_generate_text] ...finished after 0.47s\n",
      "06/Jun/2024:20:57:34 +0000 [INFO] [text_completion] [369c504f84004f78b56fc33e210b366f|text_completion] ...finished after 2.57s\n",
      "06/Jun/2024:20:57:34 +0000 [INFO] [text_completion] [369c504f84004f78b56fc33e210b366f] Metrics report:\n",
      "@text_completion(2.57s):\n",
      "• TokenUsage:\n",
      "|  + usage: \n",
      "|  |  + gpt-3.5-turbo: \n",
      "|  |  |  + input_tokens: 44\n",
      "|  |  |  + output_tokens: 12\n",
      "|  |  + gpt-4o: \n",
      "|  |  |  + input_tokens: 22\n",
      "|  |  |  + output_tokens: 15\n",
      "@lmm_generate_text(0.78s):\n",
      "|  • TokenUsage:\n",
      "|  |  + usage: \n",
      "|  |  |  + gpt-3.5-turbo: \n",
      "|  |  |  |  + input_tokens: 22\n",
      "|  |  |  |  + output_tokens: 6\n",
      "|  |  |  + gpt-4o: \n",
      "|  |  |  |  + input_tokens: 22\n",
      "|  |  |  |  + output_tokens: 15\n",
      "|  @openai_lmm_completion(0.78s):\n",
      "|  |  • ArgumentsTrace:\n",
      "|  |  |  + kwargs: \n",
      "|  |  |  |  + context: \n",
      "|  |  |  |  |  [0] \n",
      "|  |  |  |  |  |  + content: Prepare simplest completion of given text\n",
      "|  |  |  |  |  [1] \n",
      "|  |  |  |  |  |  + content: \n",
      "|  |  |  |  |  |  |  + elements: ('Roses are red...',)\n",
      "|  |  |  |  + require_tool: False\n",
      "|  |  |  |  + output: text\n",
      "|  |  |  |  + stream: False\n",
      "|  |  • TokenUsage:\n",
      "|  |  |  + usage: \n",
      "|  |  |  |  + gpt-3.5-turbo: \n",
      "|  |  |  |  |  + input_tokens: 22\n",
      "|  |  |  |  |  + output_tokens: 6\n",
      "|  |  |  |  + gpt-4o: \n",
      "|  |  |  |  |  + input_tokens: 22\n",
      "|  |  |  |  |  + output_tokens: 15\n",
      "|  |  • ResultTrace:\n",
      "|  |  |  + result: Violets are blue.\n",
      "@lmm_generate_text(1.32s):\n",
      "|  • TokenUsage:\n",
      "|  |  + usage: \n",
      "|  |  |  + gpt-4o: \n",
      "|  |  |  |  + input_tokens: 22\n",
      "|  |  |  |  + output_tokens: 15\n",
      "|  @openai_lmm_completion(1.32s):\n",
      "|  |  • ArgumentsTrace:\n",
      "|  |  |  + kwargs: \n",
      "|  |  |  |  + context: \n",
      "|  |  |  |  |  [0] \n",
      "|  |  |  |  |  |  + content: Prepare simplest completion of given text\n",
      "|  |  |  |  |  [1] \n",
      "|  |  |  |  |  |  + content: \n",
      "|  |  |  |  |  |  |  + elements: ('Roses are red...',)\n",
      "|  |  |  |  + require_tool: False\n",
      "|  |  |  |  + output: text\n",
      "|  |  |  |  + stream: False\n",
      "|  |  • TokenUsage:\n",
      "|  |  |  + usage: \n",
      "|  |  |  |  + gpt-4o: \n",
      "|  |  |  |  |  + input_tokens: 22\n",
      "|  |  |  |  |  + output_tokens: 15\n",
      "|  |  • OpenAISystemFingerprint:\n",
      "|  |  |  + system_fingerprint: fp_319be4768e\n",
      "|  |  • ResultTrace:\n",
      "|  |  |  + result: Violets are blue,\n",
      "|  |  |  Sugar is sweet,\n",
      "|  |  |  And so are you.\n",
      "@lmm_generate_text(0.47s):\n",
      "|  • TokenUsage:\n",
      "|  |  + usage: \n",
      "|  |  |  + gpt-3.5-turbo: \n",
      "|  |  |  |  + input_tokens: 22\n",
      "|  |  |  |  + output_tokens: 6\n",
      "|  @openai_lmm_completion(0.46s):\n",
      "|  |  • ArgumentsTrace:\n",
      "|  |  |  + kwargs: \n",
      "|  |  |  |  + context: \n",
      "|  |  |  |  |  [0] \n",
      "|  |  |  |  |  |  + content: Prepare simplest completion of given text\n",
      "|  |  |  |  |  [1] \n",
      "|  |  |  |  |  |  + content: \n",
      "|  |  |  |  |  |  |  + elements: ('Roses are red...',)\n",
      "|  |  |  |  + require_tool: False\n",
      "|  |  |  |  + output: text\n",
      "|  |  |  |  + stream: False\n",
      "|  |  |  |  + temperature: 0.7\n",
      "|  |  • TokenUsage:\n",
      "|  |  |  + usage: \n",
      "|  |  |  |  + gpt-3.5-turbo: \n",
      "|  |  |  |  |  + input_tokens: 22\n",
      "|  |  |  |  |  + output_tokens: 6\n",
      "|  |  • ResultTrace:\n",
      "|  |  |  + result: Violets are blue.\n"
     ]
    }
   ],
   "source": [
    "from draive import setup_logging\n",
    "\n",
    "setup_logging(\"text_completion\") # setup logger\n",
    "\n",
    "async with ctx.new(  # prepare the context and see the execution metrics report\n",
    "    \"text_completion\",\n",
    "    state=[\n",
    "        LMM(invocation=openai_lmm_invocation),\n",
    "        OpenAIChatConfig(  # define GPT model configuration\n",
    "            model=\"gpt-3.5-turbo\",\n",
    "            temperature=0.4,\n",
    "        ),\n",
    "    ],\n",
    "    dependencies=[OpenAIClient],\n",
    "):\n",
    "    await generate_text(\n",
    "        instruction=\"Prepare simplest completion of given text\",\n",
    "        input=\"Roses are red...\",\n",
    "    )\n",
    "\n",
    "    with ctx.updated(\n",
    "        ctx.state(OpenAIChatConfig).updated(\n",
    "            model=\"gpt-4o\",\n",
    "            temperature=0.7,\n",
    "        ),\n",
    "    ):\n",
    "        await generate_text(\n",
    "            instruction=\"Prepare simplest completion of given text\",\n",
    "            input=\"Roses are red...\",\n",
    "        )\n",
    "\n",
    "    await generate_text(\n",
    "        instruction=\"Prepare simplest completion of given text\",\n",
    "        input=\"Roses are red...\",\n",
    "        temperature=0.7,\n",
    "    )\n"
   ]
  },
  {
   "cell_type": "markdown",
   "metadata": {},
   "source": [
    "The more advanced usage and use cases can be explored in other notebooks."
   ]
  }
 ],
 "metadata": {
  "kernelspec": {
   "display_name": ".venv",
   "language": "python",
   "name": "python3"
  },
  "language_info": {
   "codemirror_mode": {
    "name": "ipython",
    "version": 3
   },
   "file_extension": ".py",
   "mimetype": "text/x-python",
   "name": "python",
   "nbconvert_exporter": "python",
   "pygments_lexer": "ipython3",
   "version": "3.12.2"
  }
 },
 "nbformat": 4,
 "nbformat_minor": 2
}
